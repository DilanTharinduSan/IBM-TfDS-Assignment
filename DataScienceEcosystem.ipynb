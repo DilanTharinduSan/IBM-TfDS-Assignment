{
 "cells": [
  {
   "cell_type": "markdown",
   "id": "82d44420-fa60-45a2-a6d8-e60a9ad454e7",
   "metadata": {},
   "source": [
    "# Data Science Tools and Ecosystem"
   ]
  },
  {
   "cell_type": "markdown",
   "id": "d628cc64-7fdb-4f18-ab9b-2c46be55c796",
   "metadata": {},
   "source": [
    "In this notebook, Data Science Tools and Ecosystem are summarized"
   ]
  },
  {
   "cell_type": "markdown",
   "id": "9272877d-7379-41a1-bbd2-f52e584de180",
   "metadata": {},
   "source": [
    "**Objectives**\n",
    "\n",
    "+ List down Popular Computer Languages used in Data Science\n",
    "+ List down Commonly used libraries used by Data Scientists\n",
    "+ List down popular Data Science Tools\n",
    "+ Perform some calculations using Python ( Most commonly used Language in Jupyter Notebook)"
   ]
  },
  {
   "cell_type": "markdown",
   "id": "306bc3e5-8087-48b8-8c4e-6246a43535d8",
   "metadata": {},
   "source": [
    "Some of the popular languages that Data Scientists use are:\n",
    "1. Python\n",
    "2. R Language\n",
    "3. SQL\n",
    "4. Julia\n",
    "5. Java"
   ]
  },
  {
   "cell_type": "markdown",
   "id": "5c35cb7f-31a8-421d-915e-7e99ede48287",
   "metadata": {},
   "source": [
    "Some of the commonly used libraries used by Data Scientists include:\n",
    "1. Pandas\n",
    "2. Seaborn\n",
    "3. Keras\n",
    "4. Pytorch\n",
    "5. Tensorflow"
   ]
  },
  {
   "cell_type": "markdown",
   "id": "3bb59542-d160-4975-8d34-c42f1a4ca149",
   "metadata": {},
   "source": [
    "| Data Science Tools |\n",
    "|--------------------|\n",
    "| Juypter Notebooks |\n",
    "| JuypterLab |\n",
    "| Rstudio |\n",
    "| Apache Zepplin |\n",
    "| Spyder |"
   ]
  },
  {
   "cell_type": "markdown",
   "id": "1ef3c0d0-09bd-455d-bcc3-0054d3edcfa9",
   "metadata": {},
   "source": [
    "### Below are a few examples of evaluating arithmetic expressions in Python"
   ]
  },
  {
   "cell_type": "code",
   "execution_count": 1,
   "id": "e845d3a2-f761-4594-8154-dda91de77bba",
   "metadata": {
    "tags": []
   },
   "outputs": [
    {
     "name": "stdout",
     "output_type": "stream",
     "text": [
      "17\n"
     ]
    }
   ],
   "source": [
    "#Illustrate Simple Arethmatic expression include addition and mulipication using Python\n",
    "x = (3*4)+5\n",
    "print(x)"
   ]
  },
  {
   "cell_type": "code",
   "execution_count": 3,
   "id": "97de6f14-8389-4db3-a990-e36b04dc5fdc",
   "metadata": {
    "tags": []
   },
   "outputs": [
    {
     "name": "stdin",
     "output_type": "stream",
     "text": [
      "Enter Minutes: 200\n"
     ]
    },
    {
     "name": "stdout",
     "output_type": "stream",
     "text": [
      "3.3333333333333335  Hours\n"
     ]
    }
   ],
   "source": [
    "# Convert minutes to hours by dividing by 60\n",
    "Minutes = input(\"Enter Minutes:\")\n",
    "Hours = float(Minutes)/60\n",
    "print(Hours,\" Hours\")"
   ]
  },
  {
   "cell_type": "markdown",
   "id": "3bbb2841-5a05-4a3f-8aa8-35941d8c69e8",
   "metadata": {},
   "source": [
    "## Author\n",
    "Sandra Marakkala Dilan Tharindu Sandaruwan"
   ]
  },
  {
   "cell_type": "code",
   "execution_count": null,
   "id": "76848715-9396-4320-89cb-9e5389f2a4aa",
   "metadata": {},
   "outputs": [],
   "source": []
  }
 ],
 "metadata": {
  "kernelspec": {
   "display_name": "Python",
   "language": "python",
   "name": "conda-env-python-py"
  },
  "language_info": {
   "codemirror_mode": {
    "name": "ipython",
    "version": 3
   },
   "file_extension": ".py",
   "mimetype": "text/x-python",
   "name": "python",
   "nbconvert_exporter": "python",
   "pygments_lexer": "ipython3",
   "version": "3.7.12"
  }
 },
 "nbformat": 4,
 "nbformat_minor": 5
}
